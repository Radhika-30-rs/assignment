{
  "nbformat": 4,
  "nbformat_minor": 0,
  "metadata": {
    "colab": {
      "provenance": []
    },
    "kernelspec": {
      "name": "python3",
      "display_name": "Python 3"
    },
    "language_info": {
      "name": "python"
    }
  },
  "cells": [
    {
      "cell_type": "markdown",
      "source": [
        "ques 1-**What is Python, and why is it popular?**\n",
        "\n",
        "Answer-Python is a programming language that is easy to understand and write, making it a popular choice among developers and programmers. It has various libraries like numpy,pandas,loop etc.\n",
        "Python has a large and active community of developers, an extensive standard library, and third-party packages for various domains."
      ],
      "metadata": {
        "id": "yM_LCB8fFHo2"
      }
    },
    {
      "cell_type": "markdown",
      "source": [
        "ques2-**What is an interpreter in Python?**\n",
        "\n",
        "Answer-A program that reads and executes Python code line by line, translating it into machine-readable instructions for the computer to understand."
      ],
      "metadata": {
        "id": "4NNlksewFtRN"
      }
    },
    {
      "cell_type": "markdown",
      "source": [
        "ques3-**What are pre-defined keywords in Python?**\n",
        "\n",
        "Answer-Keywords are reserved words in Python that have special meanings and cannot be used as identifiers (variable names, function names, etc.).\n",
        "Examples of keywords include if, else, while, for, def, class, import, try, except, return, True, False, None, etc.\n",
        "Keywords are case-sensitive and cannot be redefined or overridden within a Python program."
      ],
      "metadata": {
        "id": "MbxXKG9TG6t9"
      }
    },
    {
      "cell_type": "markdown",
      "source": [
        "ques4-**Can keywords be used as variable names?**\n",
        "\n",
        "Answer--No,Keywords are case-sensitive and cannot be redefined or overridden."
      ],
      "metadata": {
        "id": "mDu_1FYgHOP8"
      }
    },
    {
      "cell_type": "markdown",
      "source": [
        "ques5-**What is mutability in Python ?**\n",
        "\n",
        "Answer-It means the objects or container whose value can be changed once they are created in pyhton.Example- Set, List\n"
      ],
      "metadata": {
        "id": "Uj8RGGbNICd2"
      }
    },
    {
      "cell_type": "markdown",
      "source": [
        "ques 6-**Why are lists mutable, but tuples are immutable ?**\n",
        "\n",
        "Answer-tuples use parentheses instead of square brackets, and the items in tuples cannot be modified (but the items in lists can be modified). We often call lists mutable (meaning they can be changed) and tuples immutable (means they cannot be changed.)"
      ],
      "metadata": {
        "id": "N4QmAMyYInig"
      }
    },
    {
      "cell_type": "markdown",
      "source": [
        "ques7-**What is the difference between “==” and “is” operators in Python ?**\n",
        "\n",
        "Answer- \"==\" is a comparison operator ,it checks the value equality whereas \"is\" operator checks for object identityin python."
      ],
      "metadata": {
        "id": "9N9-sZ5GJoAS"
      }
    },
    {
      "cell_type": "markdown",
      "source": [
        "ques8-**What are logical operators in Python?**\n",
        "\n",
        "Answer-Logical Operators are special symbols or keywords that are used to carry out specific actions on numbers or variables in Python expressions.\n"
      ],
      "metadata": {
        "id": "5X8Yk3AqKRFc"
      }
    },
    {
      "cell_type": "markdown",
      "source": [
        "ques 9-**What is type casting in Python?**\n",
        "\n",
        "Answer-Type casting, also referred to as type conversion, is the process of changing one data type to another in Python."
      ],
      "metadata": {
        "id": "PhI1fiDJKyiW"
      }
    },
    {
      "cell_type": "markdown",
      "source": [
        "ques 10-**What is the difference between implicit and explicit type casting ?**\n",
        "\n",
        "Answer-implicit type casting happens automatically by the compiler, while explicit type casting (also known as type casting) requires the programmer to explicitly instruct the conversion using a specific syntax."
      ],
      "metadata": {
        "id": "AVckS0osLOSG"
      }
    },
    {
      "cell_type": "markdown",
      "source": [
        "ques11-**What is the purpose of conditional statements in Python**\n",
        "\n",
        "Answer-Conditionals in Python are used to execute code based on the evaluation of one or more conditions."
      ],
      "metadata": {
        "id": "uFxIGv9FLlip"
      }
    },
    {
      "cell_type": "markdown",
      "source": [
        "ques 12-**How does the elif statement work ?**\n",
        "\n",
        "Answer- It can be used in conditional statements to check for multiple conditions. For example, if the first condition is false, it moves on to the next “elif” statement to check if that condition is true."
      ],
      "metadata": {
        "id": "iqe8gbieL1r-"
      }
    },
    {
      "cell_type": "markdown",
      "source": [
        "ques 13-**What is the difference between for and while loops ?**\n",
        "\n",
        "Answer-Difference-for loops are used when you know the number of iterations beforehand, while while loops are used when the number of iterations depends on a dynamic condition."
      ],
      "metadata": {
        "id": "IK8FPpAGMHJb"
      }
    },
    {
      "cell_type": "markdown",
      "source": [
        "ques 14-*Describe a scenario where a while loop is more suitable than a for loop.**\n",
        "\n",
        "Answer-While loop is more suitable than a for loop when we don't know when we have to intend to loop.for loops are common for processing an array or a list. while loops are generally waiting for some condition to be true. For example, maybe you have a menu with a list of choices, and you expect the person to keep picking until they quit."
      ],
      "metadata": {
        "id": "ij8Plc-_MYb6"
      }
    },
    {
      "cell_type": "markdown",
      "source": [
        "Practical Questions"
      ],
      "metadata": {
        "id": "u6-2MROKNKUZ"
      }
    },
    {
      "cell_type": "markdown",
      "source": [
        "ques1-**Write a Python program to print \"Hello, World!**"
      ],
      "metadata": {
        "id": "kEQhCqGJNRrO"
      }
    },
    {
      "cell_type": "code",
      "source": [
        "print(\"Hello,World!\")"
      ],
      "metadata": {
        "colab": {
          "base_uri": "https://localhost:8080/"
        },
        "id": "GPUZB0sqNYDz",
        "outputId": "66f42889-36fe-414a-bdda-b0038d425a46"
      },
      "execution_count": null,
      "outputs": [
        {
          "output_type": "stream",
          "name": "stdout",
          "text": [
            "Hello,World!\n"
          ]
        }
      ]
    },
    {
      "cell_type": "markdown",
      "source": [
        "ques2-**Write a Python program that displays your name and age**"
      ],
      "metadata": {
        "id": "wt7iY2WbNhhi"
      }
    },
    {
      "cell_type": "code",
      "source": [
        "name=\"Shraddha\"\n",
        "age=22\n",
        "print(name)\n",
        "print(age)"
      ],
      "metadata": {
        "id": "naqGbKqiOqvf",
        "colab": {
          "base_uri": "https://localhost:8080/"
        },
        "outputId": "b4e00c4e-0a73-49e1-da52-88ba64c26525"
      },
      "execution_count": 1,
      "outputs": [
        {
          "output_type": "stream",
          "name": "stdout",
          "text": [
            "Shraddha\n",
            "22\n"
          ]
        }
      ]
    },
    {
      "cell_type": "markdown",
      "source": [
        "ques3-**Write code to print all the pre-defined keywords in Python using the keyword library**"
      ],
      "metadata": {
        "id": "7IUj38eVN8SC"
      }
    },
    {
      "cell_type": "markdown",
      "source": [
        "ques 4-**Write a program that checks if a given word is a Python keyword.**"
      ],
      "metadata": {
        "id": "1xbAYGY9Pmg_"
      }
    },
    {
      "cell_type": "markdown",
      "source": [
        "ques5-** Create a list and tuple in Python, and demonstrate how attempting to change an element works differently\n",
        "for each.**"
      ],
      "metadata": {
        "id": "gexxIhcUQFOH"
      }
    },
    {
      "cell_type": "code",
      "source": [
        "list=[12,22,32,43]\n",
        "list.insert(0,56)\n",
        "print(list)"
      ],
      "metadata": {
        "id": "F79Alsi0Q4j0",
        "colab": {
          "base_uri": "https://localhost:8080/"
        },
        "outputId": "77db6dd0-1caf-4b0b-b873-095cd3375030"
      },
      "execution_count": 2,
      "outputs": [
        {
          "output_type": "stream",
          "name": "stdout",
          "text": [
            "[56, 12, 22, 32, 43]\n"
          ]
        }
      ]
    },
    {
      "cell_type": "code",
      "execution_count": null,
      "metadata": {
        "id": "Uf4KAJtkFFTg"
      },
      "outputs": [],
      "source": [
        "ques 6-**Write a function to demonstrate the behavior of mutable and immutable arguments**\n"
      ]
    },
    {
      "cell_type": "markdown",
      "source": [
        "ques 7-**Write a program that performs basic arithmetic operations on two user-input numbers**"
      ],
      "metadata": {
        "id": "TBL0Oc-NUUfw"
      }
    },
    {
      "cell_type": "code",
      "source": [
        "var1=int(input(\"enter first number\"))\n",
        "var2=int(input(\"enter second number\"))\n",
        "add=var1+var2\n",
        "sub=var1-var2\n",
        "print(f'Addition of {var1} and{var2}={add}')\n",
        "print(f'Subtraction of {var1}and {var2}={sub}')\n"
      ],
      "metadata": {
        "colab": {
          "base_uri": "https://localhost:8080/"
        },
        "id": "6ljobrIEUdj4",
        "outputId": "c13d7cd1-a8c6-4bc9-9baa-3e2dc90ea3cb"
      },
      "execution_count": 5,
      "outputs": [
        {
          "output_type": "stream",
          "name": "stdout",
          "text": [
            "enter first number23\n",
            "enter second number31\n",
            "Addition of 23 and31=54\n",
            "Subtraction of 23and 31=-8\n"
          ]
        }
      ]
    },
    {
      "cell_type": "markdown",
      "source": [
        "ques 8-** Write a program to demonstrate the use of logical operators.**"
      ],
      "metadata": {
        "id": "QXKHt-5PFGQA"
      }
    },
    {
      "cell_type": "code",
      "source": [
        "print(2>3)\n",
        "print(21+45<11+10)"
      ],
      "metadata": {
        "colab": {
          "base_uri": "https://localhost:8080/"
        },
        "id": "qApEk-A1ZUN0",
        "outputId": "ade62e5f-ab23-4e37-afc5-76c401ada02b"
      },
      "execution_count": 7,
      "outputs": [
        {
          "output_type": "stream",
          "name": "stdout",
          "text": [
            "False\n",
            "False\n"
          ]
        }
      ]
    },
    {
      "cell_type": "markdown",
      "source": [
        "ques9-** Write a Python program to convert user input from string to integer, float, and boolean types.**"
      ],
      "metadata": {
        "id": "ZFx7rTJ3ZlpT"
      }
    },
    {
      "cell_type": "code",
      "source": [
        "str_num=int(input(\"enter a string\"))\n",
        "int_num=int(str_num)\n",
        "print(int_num)\n",
        "float_num=float(str_num)\n",
        "print(float_num)\n",
        "str_num=(input(\"enter a string\"))\n",
        "bool_type=bool(str_num)\n",
        "print(bool_type)"
      ],
      "metadata": {
        "colab": {
          "base_uri": "https://localhost:8080/"
        },
        "id": "bzbHwK7tamQR",
        "outputId": "21998361-adb4-42a7-8fc6-38667a09a077"
      },
      "execution_count": 25,
      "outputs": [
        {
          "output_type": "stream",
          "name": "stdout",
          "text": [
            "enter a string87\n",
            "87\n",
            "87.0\n",
            "enter a string78\n",
            "True\n"
          ]
        }
      ]
    },
    {
      "cell_type": "markdown",
      "source": [
        "ques10-** Write code to demonstrate type casting with list elements.**"
      ],
      "metadata": {
        "id": "FILMIETpiSAW"
      }
    },
    {
      "cell_type": "code",
      "source": [],
      "metadata": {
        "id": "Asuml7cgZfxp"
      },
      "execution_count": null,
      "outputs": []
    },
    {
      "cell_type": "markdown",
      "source": [
        "ques11-** Write a program that checks if a number is positive, negative, or zero.**"
      ],
      "metadata": {
        "id": "fXsPk-Wojide"
      }
    },
    {
      "cell_type": "code",
      "source": [
        "num=int(input(\"Enter a number\"))\n",
        "if num < 0:\n",
        "  print(\"The number is negative\")\n",
        "elif num>0:\n",
        "  print(\"The number is positive\")\n",
        "elif num==0:\n",
        "  print(\"The number is zero\")\n",
        "else:\n",
        "  print(\"the number is not a number\")\n",
        ""
      ],
      "metadata": {
        "colab": {
          "base_uri": "https://localhost:8080/"
        },
        "id": "1fCrSvaejzB9",
        "outputId": "f0079721-7b04-41d5-c541-678d8b389009"
      },
      "execution_count": 28,
      "outputs": [
        {
          "output_type": "stream",
          "name": "stdout",
          "text": [
            "Enter a number0\n",
            "The number is zero\n"
          ]
        }
      ]
    },
    {
      "cell_type": "markdown",
      "source": [
        "ques12-**Write a for loop to print numbers from 1 to 10.**"
      ],
      "metadata": {
        "id": "vvoQLmhClLCe"
      }
    },
    {
      "cell_type": "code",
      "source": [
        "for i in range(1,10):\n",
        "  print(i)"
      ],
      "metadata": {
        "colab": {
          "base_uri": "https://localhost:8080/"
        },
        "id": "COKkcFetkbxW",
        "outputId": "bc31b269-646c-4eac-defd-d6d6088a6f7f"
      },
      "execution_count": 31,
      "outputs": [
        {
          "output_type": "stream",
          "name": "stdout",
          "text": [
            "1\n",
            "2\n",
            "3\n",
            "4\n",
            "5\n",
            "6\n",
            "7\n",
            "8\n",
            "9\n"
          ]
        }
      ]
    },
    {
      "cell_type": "markdown",
      "source": [
        "ques 13-** Write a Python program to find the sum of all even numbers between 1 and 50**"
      ],
      "metadata": {
        "id": "GmDqrXaRldw2"
      }
    },
    {
      "cell_type": "code",
      "source": [
        "for i in range(1,51):\n",
        "  if i%2==0:\n",
        "    print(i)"
      ],
      "metadata": {
        "colab": {
          "base_uri": "https://localhost:8080/"
        },
        "id": "X0gvB5czmqwW",
        "outputId": "f102086a-93e3-4b88-c5cd-98c0e2d77968"
      },
      "execution_count": 32,
      "outputs": [
        {
          "output_type": "stream",
          "name": "stdout",
          "text": [
            "2\n",
            "4\n",
            "6\n",
            "8\n",
            "10\n",
            "12\n",
            "14\n",
            "16\n",
            "18\n",
            "20\n",
            "22\n",
            "24\n",
            "26\n",
            "28\n",
            "30\n",
            "32\n",
            "34\n",
            "36\n",
            "38\n",
            "40\n",
            "42\n",
            "44\n",
            "46\n",
            "48\n",
            "50\n"
          ]
        }
      ]
    },
    {
      "cell_type": "markdown",
      "source": [
        "ques 14-**Write a program to reverse a string using a while loop.**"
      ],
      "metadata": {
        "id": "linUTrHLnFdP"
      }
    },
    {
      "cell_type": "code",
      "source": [
        "string=\"pwskills\"\n",
        "ch=len(string)-1\n",
        "while ch>0:\n",
        "  print(string[ch])s\n",
        "  ch=ch-1"
      ],
      "metadata": {
        "colab": {
          "base_uri": "https://localhost:8080/"
        },
        "id": "0AV288URuK_i",
        "outputId": "a1bad2d1-9dcf-47c6-8b5b-2c2991bf1712"
      },
      "execution_count": 33,
      "outputs": [
        {
          "output_type": "stream",
          "name": "stdout",
          "text": [
            "s\n",
            "l\n",
            "l\n",
            "i\n",
            "k\n",
            "s\n",
            "w\n"
          ]
        }
      ]
    },
    {
      "cell_type": "markdown",
      "source": [
        "ques 15-** Write a Python program to calculate the factorial of a number provided by the user using a while loop**"
      ],
      "metadata": {
        "id": "LG1QCvXLvFMd"
      }
    },
    {
      "cell_type": "code",
      "source": [
        "num=int(input(\"enter a number\"))\n",
        "fact=1\n",
        "a=1\n",
        "while a<=num:\n",
        "  fact=fact*a\n",
        "  a++1\n",
        "print(\"The factorial of\",num,\"fact\")\n"
      ],
      "metadata": {
        "colab": {
          "base_uri": "https://localhost:8080/"
        },
        "id": "yvnkt2uU0VNK",
        "outputId": "181191a0-33ee-4745-b9ca-f76b3a9cc920"
      },
      "execution_count": null,
      "outputs": [
        {
          "name": "stdout",
          "output_type": "stream",
          "text": [
            "enter a number5\n"
          ]
        }
      ]
    },
    {
      "cell_type": "code",
      "source": [],
      "metadata": {
        "id": "WUl9L9W6lJSc"
      },
      "execution_count": null,
      "outputs": []
    },
    {
      "cell_type": "code",
      "source": [],
      "metadata": {
        "id": "Y9T4K9Ig0rhn"
      },
      "execution_count": null,
      "outputs": []
    },
    {
      "cell_type": "code",
      "source": [],
      "metadata": {
        "id": "3CiqgCcL0s8x"
      },
      "execution_count": null,
      "outputs": []
    }
  ]
}